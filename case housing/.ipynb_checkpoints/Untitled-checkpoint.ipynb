{
 "cells": [
  {
   "cell_type": "code",
   "execution_count": 12,
   "metadata": {
    "ExecuteTime": {
     "end_time": "2021-03-13T15:31:42.609797Z",
     "start_time": "2021-03-13T15:31:40.837830Z"
    }
   },
   "outputs": [],
   "source": [
    "import pandas as pd\n",
    "import matplotlib.pyplot as plt\n",
    "import seaborn as sns\n",
    "import statsmodels.api as sm\n",
    "import numpy as np"
   ]
  },
  {
   "cell_type": "markdown",
   "metadata": {},
   "source": [
    "# Análise Exploratória dos Dados"
   ]
  },
  {
   "cell_type": "markdown",
   "metadata": {},
   "source": [
    "## Lendo o dataframe"
   ]
  },
  {
   "cell_type": "code",
   "execution_count": 18,
   "metadata": {
    "ExecuteTime": {
     "end_time": "2021-03-13T15:36:04.502655Z",
     "start_time": "2021-03-13T15:36:04.378792Z"
    }
   },
   "outputs": [
    {
     "data": {
      "text/html": [
       "<div>\n",
       "<style scoped>\n",
       "    .dataframe tbody tr th:only-of-type {\n",
       "        vertical-align: middle;\n",
       "    }\n",
       "\n",
       "    .dataframe tbody tr th {\n",
       "        vertical-align: top;\n",
       "    }\n",
       "\n",
       "    .dataframe thead th {\n",
       "        text-align: right;\n",
       "    }\n",
       "</style>\n",
       "<table border=\"1\" class=\"dataframe\">\n",
       "  <thead>\n",
       "    <tr style=\"text-align: right;\">\n",
       "      <th></th>\n",
       "      <th>id</th>\n",
       "      <th>name</th>\n",
       "      <th>host_id</th>\n",
       "      <th>host_name</th>\n",
       "      <th>neighbourhood_group</th>\n",
       "      <th>neighbourhood</th>\n",
       "      <th>latitude</th>\n",
       "      <th>longitude</th>\n",
       "      <th>room_type</th>\n",
       "      <th>price</th>\n",
       "      <th>minimum_nights</th>\n",
       "      <th>number_of_reviews</th>\n",
       "      <th>last_review</th>\n",
       "      <th>reviews_per_month</th>\n",
       "      <th>calculated_host_listings_count</th>\n",
       "      <th>availability_365</th>\n",
       "    </tr>\n",
       "  </thead>\n",
       "  <tbody>\n",
       "    <tr>\n",
       "      <th>0</th>\n",
       "      <td>17878</td>\n",
       "      <td>Very Nice 2Br in Copacabana w. balcony, fast WiFi</td>\n",
       "      <td>68997</td>\n",
       "      <td>Matthias</td>\n",
       "      <td>NaN</td>\n",
       "      <td>Copacabana</td>\n",
       "      <td>-22.96592</td>\n",
       "      <td>-43.17896</td>\n",
       "      <td>Entire home/apt</td>\n",
       "      <td>221</td>\n",
       "      <td>5</td>\n",
       "      <td>260</td>\n",
       "      <td>2021-02-08</td>\n",
       "      <td>2.01</td>\n",
       "      <td>1</td>\n",
       "      <td>304</td>\n",
       "    </tr>\n",
       "    <tr>\n",
       "      <th>1</th>\n",
       "      <td>24480</td>\n",
       "      <td>Nice and cozy near Ipanema Beach</td>\n",
       "      <td>99249</td>\n",
       "      <td>Goya</td>\n",
       "      <td>NaN</td>\n",
       "      <td>Ipanema</td>\n",
       "      <td>-22.98570</td>\n",
       "      <td>-43.20193</td>\n",
       "      <td>Entire home/apt</td>\n",
       "      <td>307</td>\n",
       "      <td>3</td>\n",
       "      <td>85</td>\n",
       "      <td>2018-02-14</td>\n",
       "      <td>0.67</td>\n",
       "      <td>1</td>\n",
       "      <td>10</td>\n",
       "    </tr>\n",
       "    <tr>\n",
       "      <th>2</th>\n",
       "      <td>25026</td>\n",
       "      <td>Beautiful Modern Decorated Studio in Copa</td>\n",
       "      <td>3746246</td>\n",
       "      <td>Ghizlane</td>\n",
       "      <td>NaN</td>\n",
       "      <td>Copacabana</td>\n",
       "      <td>-22.97712</td>\n",
       "      <td>-43.19045</td>\n",
       "      <td>Entire home/apt</td>\n",
       "      <td>160</td>\n",
       "      <td>7</td>\n",
       "      <td>238</td>\n",
       "      <td>2020-02-15</td>\n",
       "      <td>1.82</td>\n",
       "      <td>11</td>\n",
       "      <td>328</td>\n",
       "    </tr>\n",
       "    <tr>\n",
       "      <th>3</th>\n",
       "      <td>35636</td>\n",
       "      <td>Cosy flat close to Ipanema beach</td>\n",
       "      <td>153232</td>\n",
       "      <td>Patricia</td>\n",
       "      <td>NaN</td>\n",
       "      <td>Ipanema</td>\n",
       "      <td>-22.98816</td>\n",
       "      <td>-43.19359</td>\n",
       "      <td>Entire home/apt</td>\n",
       "      <td>273</td>\n",
       "      <td>2</td>\n",
       "      <td>181</td>\n",
       "      <td>2020-03-15</td>\n",
       "      <td>2.02</td>\n",
       "      <td>1</td>\n",
       "      <td>207</td>\n",
       "    </tr>\n",
       "    <tr>\n",
       "      <th>4</th>\n",
       "      <td>35764</td>\n",
       "      <td>COPACABANA SEA BREEZE  -  RIO - 20 X Superhost</td>\n",
       "      <td>153691</td>\n",
       "      <td>Patricia Miranda &amp; Paulo</td>\n",
       "      <td>NaN</td>\n",
       "      <td>Copacabana</td>\n",
       "      <td>-22.98127</td>\n",
       "      <td>-43.19046</td>\n",
       "      <td>Entire home/apt</td>\n",
       "      <td>135</td>\n",
       "      <td>3</td>\n",
       "      <td>353</td>\n",
       "      <td>2021-02-10</td>\n",
       "      <td>2.79</td>\n",
       "      <td>1</td>\n",
       "      <td>101</td>\n",
       "    </tr>\n",
       "    <tr>\n",
       "      <th>...</th>\n",
       "      <td>...</td>\n",
       "      <td>...</td>\n",
       "      <td>...</td>\n",
       "      <td>...</td>\n",
       "      <td>...</td>\n",
       "      <td>...</td>\n",
       "      <td>...</td>\n",
       "      <td>...</td>\n",
       "      <td>...</td>\n",
       "      <td>...</td>\n",
       "      <td>...</td>\n",
       "      <td>...</td>\n",
       "      <td>...</td>\n",
       "      <td>...</td>\n",
       "      <td>...</td>\n",
       "      <td>...</td>\n",
       "    </tr>\n",
       "    <tr>\n",
       "      <th>26610</th>\n",
       "      <td>48269503</td>\n",
       "      <td>Quarto inteiro no Recreio dos Bandeirantes.</td>\n",
       "      <td>389246322</td>\n",
       "      <td>Vivian</td>\n",
       "      <td>NaN</td>\n",
       "      <td>Recreio dos Bandeirantes</td>\n",
       "      <td>-23.01452</td>\n",
       "      <td>-43.46005</td>\n",
       "      <td>Private room</td>\n",
       "      <td>94</td>\n",
       "      <td>1</td>\n",
       "      <td>0</td>\n",
       "      <td>NaN</td>\n",
       "      <td>NaN</td>\n",
       "      <td>4</td>\n",
       "      <td>180</td>\n",
       "    </tr>\n",
       "    <tr>\n",
       "      <th>26611</th>\n",
       "      <td>48269534</td>\n",
       "      <td>Casa grande mobiliada, 2 quartos em Jacarepaguá.</td>\n",
       "      <td>122122028</td>\n",
       "      <td>Victor</td>\n",
       "      <td>NaN</td>\n",
       "      <td>Cidade de Deus</td>\n",
       "      <td>-22.95078</td>\n",
       "      <td>-43.35997</td>\n",
       "      <td>Entire home/apt</td>\n",
       "      <td>141</td>\n",
       "      <td>1</td>\n",
       "      <td>0</td>\n",
       "      <td>NaN</td>\n",
       "      <td>NaN</td>\n",
       "      <td>1</td>\n",
       "      <td>365</td>\n",
       "    </tr>\n",
       "    <tr>\n",
       "      <th>26612</th>\n",
       "      <td>48270411</td>\n",
       "      <td>BR-RJ020 Casa Niemeyer vista deslumbrante</td>\n",
       "      <td>13773093</td>\n",
       "      <td>Raphael</td>\n",
       "      <td>NaN</td>\n",
       "      <td>São Conrado</td>\n",
       "      <td>-22.99825</td>\n",
       "      <td>-43.25133</td>\n",
       "      <td>Entire home/apt</td>\n",
       "      <td>2500</td>\n",
       "      <td>3</td>\n",
       "      <td>0</td>\n",
       "      <td>NaN</td>\n",
       "      <td>NaN</td>\n",
       "      <td>1</td>\n",
       "      <td>360</td>\n",
       "    </tr>\n",
       "    <tr>\n",
       "      <th>26613</th>\n",
       "      <td>48270514</td>\n",
       "      <td>Casa Tijuca - Curtir e  aproveitar o Rio</td>\n",
       "      <td>23737846</td>\n",
       "      <td>Lucas</td>\n",
       "      <td>NaN</td>\n",
       "      <td>Tijuca</td>\n",
       "      <td>-22.92816</td>\n",
       "      <td>-43.24319</td>\n",
       "      <td>Entire home/apt</td>\n",
       "      <td>160</td>\n",
       "      <td>5</td>\n",
       "      <td>0</td>\n",
       "      <td>NaN</td>\n",
       "      <td>NaN</td>\n",
       "      <td>3</td>\n",
       "      <td>269</td>\n",
       "    </tr>\n",
       "    <tr>\n",
       "      <th>26614</th>\n",
       "      <td>48276004</td>\n",
       "      <td>Rio Spot Homes D040</td>\n",
       "      <td>13580277</td>\n",
       "      <td>Marcio</td>\n",
       "      <td>NaN</td>\n",
       "      <td>Copacabana</td>\n",
       "      <td>-22.96482</td>\n",
       "      <td>-43.17428</td>\n",
       "      <td>Entire home/apt</td>\n",
       "      <td>316</td>\n",
       "      <td>1</td>\n",
       "      <td>0</td>\n",
       "      <td>NaN</td>\n",
       "      <td>NaN</td>\n",
       "      <td>59</td>\n",
       "      <td>159</td>\n",
       "    </tr>\n",
       "  </tbody>\n",
       "</table>\n",
       "<p>26615 rows × 16 columns</p>\n",
       "</div>"
      ],
      "text/plain": [
       "             id                                               name    host_id  \\\n",
       "0         17878  Very Nice 2Br in Copacabana w. balcony, fast WiFi      68997   \n",
       "1         24480                   Nice and cozy near Ipanema Beach      99249   \n",
       "2         25026          Beautiful Modern Decorated Studio in Copa    3746246   \n",
       "3         35636                   Cosy flat close to Ipanema beach     153232   \n",
       "4         35764     COPACABANA SEA BREEZE  -  RIO - 20 X Superhost     153691   \n",
       "...         ...                                                ...        ...   \n",
       "26610  48269503        Quarto inteiro no Recreio dos Bandeirantes.  389246322   \n",
       "26611  48269534   Casa grande mobiliada, 2 quartos em Jacarepaguá.  122122028   \n",
       "26612  48270411          BR-RJ020 Casa Niemeyer vista deslumbrante   13773093   \n",
       "26613  48270514           Casa Tijuca - Curtir e  aproveitar o Rio   23737846   \n",
       "26614  48276004                                Rio Spot Homes D040   13580277   \n",
       "\n",
       "                      host_name  neighbourhood_group  \\\n",
       "0                      Matthias                  NaN   \n",
       "1                          Goya                  NaN   \n",
       "2                      Ghizlane                  NaN   \n",
       "3                      Patricia                  NaN   \n",
       "4      Patricia Miranda & Paulo                  NaN   \n",
       "...                         ...                  ...   \n",
       "26610                    Vivian                  NaN   \n",
       "26611                    Victor                  NaN   \n",
       "26612                   Raphael                  NaN   \n",
       "26613                     Lucas                  NaN   \n",
       "26614                    Marcio                  NaN   \n",
       "\n",
       "                  neighbourhood  latitude  longitude        room_type  price  \\\n",
       "0                    Copacabana -22.96592  -43.17896  Entire home/apt    221   \n",
       "1                       Ipanema -22.98570  -43.20193  Entire home/apt    307   \n",
       "2                    Copacabana -22.97712  -43.19045  Entire home/apt    160   \n",
       "3                       Ipanema -22.98816  -43.19359  Entire home/apt    273   \n",
       "4                    Copacabana -22.98127  -43.19046  Entire home/apt    135   \n",
       "...                         ...       ...        ...              ...    ...   \n",
       "26610  Recreio dos Bandeirantes -23.01452  -43.46005     Private room     94   \n",
       "26611            Cidade de Deus -22.95078  -43.35997  Entire home/apt    141   \n",
       "26612               São Conrado -22.99825  -43.25133  Entire home/apt   2500   \n",
       "26613                    Tijuca -22.92816  -43.24319  Entire home/apt    160   \n",
       "26614                Copacabana -22.96482  -43.17428  Entire home/apt    316   \n",
       "\n",
       "       minimum_nights  number_of_reviews last_review  reviews_per_month  \\\n",
       "0                   5                260  2021-02-08               2.01   \n",
       "1                   3                 85  2018-02-14               0.67   \n",
       "2                   7                238  2020-02-15               1.82   \n",
       "3                   2                181  2020-03-15               2.02   \n",
       "4                   3                353  2021-02-10               2.79   \n",
       "...               ...                ...         ...                ...   \n",
       "26610               1                  0         NaN                NaN   \n",
       "26611               1                  0         NaN                NaN   \n",
       "26612               3                  0         NaN                NaN   \n",
       "26613               5                  0         NaN                NaN   \n",
       "26614               1                  0         NaN                NaN   \n",
       "\n",
       "       calculated_host_listings_count  availability_365  \n",
       "0                                   1               304  \n",
       "1                                   1                10  \n",
       "2                                  11               328  \n",
       "3                                   1               207  \n",
       "4                                   1               101  \n",
       "...                               ...               ...  \n",
       "26610                               4               180  \n",
       "26611                               1               365  \n",
       "26612                               1               360  \n",
       "26613                               3               269  \n",
       "26614                              59               159  \n",
       "\n",
       "[26615 rows x 16 columns]"
      ]
     },
     "execution_count": 18,
     "metadata": {},
     "output_type": "execute_result"
    }
   ],
   "source": [
    "df = pd.read_csv('listings.csv',encoding = 'utf-8', delimiter=',',low_memory = False)\n",
    "\n",
    "df"
   ]
  },
  {
   "cell_type": "markdown",
   "metadata": {},
   "source": [
    "## Informações do dataframe\n",
    "\n",
    "Aqui aplicamos a função info() para verificar quais são as variáveis/features do dataframe."
   ]
  },
  {
   "cell_type": "code",
   "execution_count": 5,
   "metadata": {
    "ExecuteTime": {
     "end_time": "2021-03-13T15:24:40.503079Z",
     "start_time": "2021-03-13T15:24:40.352302Z"
    }
   },
   "outputs": [
    {
     "name": "stdout",
     "output_type": "stream",
     "text": [
      "<class 'pandas.core.frame.DataFrame'>\n",
      "RangeIndex: 26615 entries, 0 to 26614\n",
      "Data columns (total 16 columns):\n",
      " #   Column                          Non-Null Count  Dtype  \n",
      "---  ------                          --------------  -----  \n",
      " 0   id                              26615 non-null  int64  \n",
      " 1   name                            26586 non-null  object \n",
      " 2   host_id                         26615 non-null  int64  \n",
      " 3   host_name                       26591 non-null  object \n",
      " 4   neighbourhood_group             0 non-null      float64\n",
      " 5   neighbourhood                   26615 non-null  object \n",
      " 6   latitude                        26615 non-null  float64\n",
      " 7   longitude                       26615 non-null  float64\n",
      " 8   room_type                       26615 non-null  object \n",
      " 9   price                           26615 non-null  int64  \n",
      " 10  minimum_nights                  26615 non-null  int64  \n",
      " 11  number_of_reviews               26615 non-null  int64  \n",
      " 12  last_review                     16657 non-null  object \n",
      " 13  reviews_per_month               16657 non-null  float64\n",
      " 14  calculated_host_listings_count  26615 non-null  int64  \n",
      " 15  availability_365                26615 non-null  int64  \n",
      "dtypes: float64(4), int64(7), object(5)\n",
      "memory usage: 3.2+ MB\n"
     ]
    }
   ],
   "source": [
    "df.info()"
   ]
  },
  {
   "cell_type": "markdown",
   "metadata": {},
   "source": [
    "## Contando valores de algumas variáveis nominais"
   ]
  },
  {
   "cell_type": "code",
   "execution_count": 7,
   "metadata": {
    "ExecuteTime": {
     "end_time": "2021-03-13T15:27:56.455535Z",
     "start_time": "2021-03-13T15:27:56.440578Z"
    }
   },
   "outputs": [
    {
     "data": {
      "text/plain": [
       "Entire home/apt    19285\n",
       "Private room        6619\n",
       "Shared room          612\n",
       "Hotel room            99\n",
       "Name: room_type, dtype: int64"
      ]
     },
     "execution_count": 7,
     "metadata": {},
     "output_type": "execute_result"
    }
   ],
   "source": [
    "df.room_type.value_counts()"
   ]
  },
  {
   "cell_type": "code",
   "execution_count": 19,
   "metadata": {
    "ExecuteTime": {
     "end_time": "2021-03-13T15:36:13.581405Z",
     "start_time": "2021-03-13T15:36:13.571438Z"
    }
   },
   "outputs": [
    {
     "data": {
      "text/plain": [
       "Copacabana         7712\n",
       "Barra da Tijuca    2724\n",
       "Ipanema            2572\n",
       "Jacarepaguá        1335\n",
       "Botafogo           1222\n",
       "                   ... \n",
       "Vila Kosmos           1\n",
       "Honório Gurgel        1\n",
       "Gericinó              1\n",
       "Zumbi                 1\n",
       "Acari                 1\n",
       "Name: neighbourhood, Length: 151, dtype: int64"
      ]
     },
     "execution_count": 19,
     "metadata": {},
     "output_type": "execute_result"
    }
   ],
   "source": [
    "df.neighbourhood.value_counts()"
   ]
  },
  {
   "cell_type": "code",
   "execution_count": 20,
   "metadata": {
    "ExecuteTime": {
     "end_time": "2021-03-13T15:36:35.046822Z",
     "start_time": "2021-03-13T15:36:35.033856Z"
    }
   },
   "outputs": [
    {
     "data": {
      "text/plain": [
       "array(['Copacabana', 'Ipanema', 'Barra da Tijuca', 'Flamengo',\n",
       "       'Santa Teresa', 'Gávea', 'Leblon', 'Jacarepaguá', 'Campo Grande',\n",
       "       'Laranjeiras', 'Humaitá', 'São Conrado', 'Botafogo', 'Centro',\n",
       "       'Vidigal', 'Santo Cristo', 'Itanhangá', 'São Cristóvão',\n",
       "       'Maracanã', 'Glória', 'Tijuca', 'Lagoa', 'São Francisco Xavier',\n",
       "       'Catete', 'Pitangueiras', 'Marechal Hermes', 'Jardim Botânico',\n",
       "       'Senador Camará', 'Irajá', 'Vargem Grande',\n",
       "       'Recreio dos Bandeirantes', 'Leme', 'Anil', 'Vargem Pequena',\n",
       "       'Estácio', 'Cosme Velho', 'Gardênia Azul', 'Taquara', 'Bangu',\n",
       "       'Urca', 'Grajaú', 'Joá', 'Alto da Boa Vista', 'Penha Circular',\n",
       "       'Vila Isabel', 'Jardim Sulacap', 'Praça da Bandeira', 'Encantado',\n",
       "       'Rio Comprido', 'Lins de Vasconcelos', 'Cosmos', 'Santíssimo',\n",
       "       'Gamboa', 'Bonsucesso', 'Camorim', 'Piedade', 'Vila da Penha',\n",
       "       'Olaria', 'Vila Valqueire', 'Cidade de Deus', 'Riachuelo',\n",
       "       'Barra de Guaratiba', 'Praça Seca', 'Padre Miguel', 'Méier',\n",
       "       'Tauá', 'Curicica', 'Rocinha', 'Engenho Novo', 'Andaraí',\n",
       "       'Santa Cruz', 'Inhoaíba', 'Guaratiba', 'Cidade Nova',\n",
       "       'Freguesia (Jacarepaguá)', 'Mangueira', 'Cachambi',\n",
       "       'Pedra de Guaratiba', 'Portuguesa', 'Campinho', 'Cavalcanti',\n",
       "       'Freguesia (Ilha)', 'Higienópolis', 'Bento Ribeiro',\n",
       "       'Engenho de Dentro', 'Todos os Santos', 'Paciência',\n",
       "       'Maria da Graça', 'Sampaio', 'Cordovil', 'Rocha Miranda', 'Jacaré',\n",
       "       'Barros Filho', 'Engenho da Rainha', 'Saúde', 'Benfica',\n",
       "       'Ricardo de Albuquerque', 'Del Castilho', 'Parada de Lucas',\n",
       "       'Rocha', 'Pavuna', 'Penha', 'Vicente de Carvalho',\n",
       "       'Jardim Guanabara', 'Quintino Bocaiúva', 'Brás de Pina', 'Pilares',\n",
       "       'Pechincha', 'Madureira', 'Tanque', 'Inhaúma', 'Gericinó',\n",
       "       'Abolição', 'Vila Militar', 'Parque Anchieta', 'Ramos', 'Catumbi',\n",
       "       'Realengo', 'Jardim Carioca', 'Paquetá', 'Cocotá', 'Bancários',\n",
       "       'Anchieta', 'Moneró', 'Vista Alegre', 'Guadalupe', 'Tomás Coelho',\n",
       "       'Deodoro', 'Cacuia', 'Ribeira', 'Osvaldo Cruz', 'Vaz Lobo',\n",
       "       'Sepetiba', 'Praia da Bandeira', 'Complexo do Alemão',\n",
       "       'Vila Kosmos', 'Vasco da Gama', 'Água Santa', 'Cascadura',\n",
       "       'Vigário Geral', 'Cidade Universitária', 'Grumari',\n",
       "       'Senador Vasconcelos', 'Manguinhos', 'Galeão', 'Coelho Neto',\n",
       "       'Honório Gurgel', 'Acari', 'Zumbi', 'Maré', 'Magalhães Bastos'],\n",
       "      dtype=object)"
      ]
     },
     "execution_count": 20,
     "metadata": {},
     "output_type": "execute_result"
    }
   ],
   "source": [
    "df.neighbourhood.unique()"
   ]
  },
  {
   "cell_type": "markdown",
   "metadata": {},
   "source": [
    "## Descrição estatística do dataframe\n",
    "\n",
    "Foram indentificados alguns outliers no dataframe. As variáveis price, minimum_nights, number_of_reviews, reviews_per_month e availability_365."
   ]
  },
  {
   "cell_type": "code",
   "execution_count": 16,
   "metadata": {
    "ExecuteTime": {
     "end_time": "2021-03-13T15:33:40.269811Z",
     "start_time": "2021-03-13T15:33:40.209973Z"
    }
   },
   "outputs": [
    {
     "data": {
      "text/html": [
       "<div>\n",
       "<style scoped>\n",
       "    .dataframe tbody tr th:only-of-type {\n",
       "        vertical-align: middle;\n",
       "    }\n",
       "\n",
       "    .dataframe tbody tr th {\n",
       "        vertical-align: top;\n",
       "    }\n",
       "\n",
       "    .dataframe thead th {\n",
       "        text-align: right;\n",
       "    }\n",
       "</style>\n",
       "<table border=\"1\" class=\"dataframe\">\n",
       "  <thead>\n",
       "    <tr style=\"text-align: right;\">\n",
       "      <th></th>\n",
       "      <th>id</th>\n",
       "      <th>host_id</th>\n",
       "      <th>neighbourhood_group</th>\n",
       "      <th>latitude</th>\n",
       "      <th>longitude</th>\n",
       "      <th>price</th>\n",
       "      <th>minimum_nights</th>\n",
       "      <th>number_of_reviews</th>\n",
       "      <th>reviews_per_month</th>\n",
       "      <th>calculated_host_listings_count</th>\n",
       "      <th>availability_365</th>\n",
       "    </tr>\n",
       "  </thead>\n",
       "  <tbody>\n",
       "    <tr>\n",
       "      <th>count</th>\n",
       "      <td>2.661500e+04</td>\n",
       "      <td>2.661500e+04</td>\n",
       "      <td>0.0</td>\n",
       "      <td>26615.000000</td>\n",
       "      <td>26615.000000</td>\n",
       "      <td>26615.000000</td>\n",
       "      <td>26615.000000</td>\n",
       "      <td>26615.000000</td>\n",
       "      <td>16657.000000</td>\n",
       "      <td>26615.000000</td>\n",
       "      <td>26615.000000</td>\n",
       "    </tr>\n",
       "    <tr>\n",
       "      <th>mean</th>\n",
       "      <td>2.526448e+07</td>\n",
       "      <td>1.006657e+08</td>\n",
       "      <td>NaN</td>\n",
       "      <td>-22.965837</td>\n",
       "      <td>-43.248533</td>\n",
       "      <td>742.589254</td>\n",
       "      <td>4.725268</td>\n",
       "      <td>12.146308</td>\n",
       "      <td>0.629190</td>\n",
       "      <td>9.665414</td>\n",
       "      <td>219.438174</td>\n",
       "    </tr>\n",
       "    <tr>\n",
       "      <th>std</th>\n",
       "      <td>1.573416e+07</td>\n",
       "      <td>1.090670e+08</td>\n",
       "      <td>NaN</td>\n",
       "      <td>0.034971</td>\n",
       "      <td>0.096296</td>\n",
       "      <td>5368.868834</td>\n",
       "      <td>19.102522</td>\n",
       "      <td>29.722813</td>\n",
       "      <td>0.876064</td>\n",
       "      <td>35.942124</td>\n",
       "      <td>141.525405</td>\n",
       "    </tr>\n",
       "    <tr>\n",
       "      <th>min</th>\n",
       "      <td>1.787800e+04</td>\n",
       "      <td>3.607000e+03</td>\n",
       "      <td>NaN</td>\n",
       "      <td>-23.072920</td>\n",
       "      <td>-43.704790</td>\n",
       "      <td>0.000000</td>\n",
       "      <td>1.000000</td>\n",
       "      <td>0.000000</td>\n",
       "      <td>0.010000</td>\n",
       "      <td>1.000000</td>\n",
       "      <td>0.000000</td>\n",
       "    </tr>\n",
       "    <tr>\n",
       "      <th>25%</th>\n",
       "      <td>1.220219e+07</td>\n",
       "      <td>1.431500e+07</td>\n",
       "      <td>NaN</td>\n",
       "      <td>-22.984570</td>\n",
       "      <td>-43.304090</td>\n",
       "      <td>157.000000</td>\n",
       "      <td>1.000000</td>\n",
       "      <td>0.000000</td>\n",
       "      <td>0.090000</td>\n",
       "      <td>1.000000</td>\n",
       "      <td>88.000000</td>\n",
       "    </tr>\n",
       "    <tr>\n",
       "      <th>50%</th>\n",
       "      <td>2.374090e+07</td>\n",
       "      <td>6.026326e+07</td>\n",
       "      <td>NaN</td>\n",
       "      <td>-22.971700</td>\n",
       "      <td>-43.196210</td>\n",
       "      <td>280.000000</td>\n",
       "      <td>2.000000</td>\n",
       "      <td>2.000000</td>\n",
       "      <td>0.270000</td>\n",
       "      <td>1.000000</td>\n",
       "      <td>254.000000</td>\n",
       "    </tr>\n",
       "    <tr>\n",
       "      <th>75%</th>\n",
       "      <td>4.089613e+07</td>\n",
       "      <td>1.546962e+08</td>\n",
       "      <td>NaN</td>\n",
       "      <td>-22.951575</td>\n",
       "      <td>-43.186300</td>\n",
       "      <td>550.000000</td>\n",
       "      <td>4.000000</td>\n",
       "      <td>9.000000</td>\n",
       "      <td>0.850000</td>\n",
       "      <td>3.000000</td>\n",
       "      <td>363.000000</td>\n",
       "    </tr>\n",
       "    <tr>\n",
       "      <th>max</th>\n",
       "      <td>4.827600e+07</td>\n",
       "      <td>3.892463e+08</td>\n",
       "      <td>NaN</td>\n",
       "      <td>-22.749820</td>\n",
       "      <td>-43.104860</td>\n",
       "      <td>625216.000000</td>\n",
       "      <td>1000.000000</td>\n",
       "      <td>446.000000</td>\n",
       "      <td>29.530000</td>\n",
       "      <td>295.000000</td>\n",
       "      <td>365.000000</td>\n",
       "    </tr>\n",
       "  </tbody>\n",
       "</table>\n",
       "</div>"
      ],
      "text/plain": [
       "                 id       host_id  neighbourhood_group      latitude  \\\n",
       "count  2.661500e+04  2.661500e+04                  0.0  26615.000000   \n",
       "mean   2.526448e+07  1.006657e+08                  NaN    -22.965837   \n",
       "std    1.573416e+07  1.090670e+08                  NaN      0.034971   \n",
       "min    1.787800e+04  3.607000e+03                  NaN    -23.072920   \n",
       "25%    1.220219e+07  1.431500e+07                  NaN    -22.984570   \n",
       "50%    2.374090e+07  6.026326e+07                  NaN    -22.971700   \n",
       "75%    4.089613e+07  1.546962e+08                  NaN    -22.951575   \n",
       "max    4.827600e+07  3.892463e+08                  NaN    -22.749820   \n",
       "\n",
       "          longitude          price  minimum_nights  number_of_reviews  \\\n",
       "count  26615.000000   26615.000000    26615.000000       26615.000000   \n",
       "mean     -43.248533     742.589254        4.725268          12.146308   \n",
       "std        0.096296    5368.868834       19.102522          29.722813   \n",
       "min      -43.704790       0.000000        1.000000           0.000000   \n",
       "25%      -43.304090     157.000000        1.000000           0.000000   \n",
       "50%      -43.196210     280.000000        2.000000           2.000000   \n",
       "75%      -43.186300     550.000000        4.000000           9.000000   \n",
       "max      -43.104860  625216.000000     1000.000000         446.000000   \n",
       "\n",
       "       reviews_per_month  calculated_host_listings_count  availability_365  \n",
       "count       16657.000000                    26615.000000      26615.000000  \n",
       "mean            0.629190                        9.665414        219.438174  \n",
       "std             0.876064                       35.942124        141.525405  \n",
       "min             0.010000                        1.000000          0.000000  \n",
       "25%             0.090000                        1.000000         88.000000  \n",
       "50%             0.270000                        1.000000        254.000000  \n",
       "75%             0.850000                        3.000000        363.000000  \n",
       "max            29.530000                      295.000000        365.000000  "
      ]
     },
     "execution_count": 16,
     "metadata": {},
     "output_type": "execute_result"
    }
   ],
   "source": [
    "df.describe()"
   ]
  },
  {
   "cell_type": "markdown",
   "metadata": {},
   "source": [
    "## Distribuição de variáveis numéricas"
   ]
  },
  {
   "cell_type": "code",
   "execution_count": 26,
   "metadata": {
    "ExecuteTime": {
     "end_time": "2021-03-13T15:54:31.911167Z",
     "start_time": "2021-03-13T15:54:31.062577Z"
    }
   },
   "outputs": [
    {
     "data": {
      "text/plain": [
       "<matplotlib.axes._subplots.AxesSubplot at 0x1841eaa3820>"
      ]
     },
     "execution_count": 26,
     "metadata": {},
     "output_type": "execute_result"
    },
    {
     "data": {
      "image/png": "[encoded data removed]",
      "text/plain": [
       "<Figure size 1152x432 with 6 Axes>"
      ]
     },
     "metadata": {
      "needs_background": "light"
     },
     "output_type": "display_data"
    }
   ],
   "source": [
    "fig, axes = plt.subplots(2, 3, figsize=(16, 6))\n",
    "\n",
    "sns.distplot(df['price'] , color = 'skyblue', label = 'price', ax = axes[0,0])\n",
    "sns.distplot(df['minimum_nights'] , color = 'red', label = 'minimum_nights', ax = axes[0,1])\n",
    "sns.distplot(df['number_of_reviews'] , color = 'skyblue', label = 'number_of_reviews', ax = axes[0,2])\n",
    "sns.distplot(df['reviews_per_month'] , color = 'skyblue', label = 'reviews_per_month', ax = axes[1,0])\n",
    "sns.distplot(df['availability_365'] , color = 'red', label = 'availability_365', ax=axes[1,1])"
   ]
  },
  {
   "cell_type": "markdown",
   "metadata": {},
   "source": [
    "# Criando novas variáveis"
   ]
  },
  {
   "cell_type": "code",
   "execution_count": null,
   "metadata": {},
   "outputs": [],
   "source": []
  },
  {
   "cell_type": "code",
   "execution_count": null,
   "metadata": {},
   "outputs": [],
   "source": []
  }
 ],
 "metadata": {
  "kernelspec": {
   "display_name": "Python 3",
   "language": "python",
   "name": "python3"
  },
  "language_info": {
   "codemirror_mode": {
    "name": "ipython",
    "version": 3
   },
   "file_extension": ".py",
   "mimetype": "text/x-python",
   "name": "python",
   "nbconvert_exporter": "python",
   "pygments_lexer": "ipython3",
   "version": "3.8.3"
  },
  "latex_envs": {
   "LaTeX_envs_menu_present": true,
   "autoclose": false,
   "autocomplete": true,
   "bibliofile": "biblio.bib",
   "cite_by": "apalike",
   "current_citInitial": 1,
   "eqLabelWithNumbers": true,
   "eqNumInitial": 1,
   "hotkeys": {
    "equation": "Ctrl-E",
    "itemize": "Ctrl-I"
   },
   "labels_anchors": false,
   "latex_user_defs": false,
   "report_style_numbering": false,
   "user_envs_cfg": false
  },
  "toc": {
   "base_numbering": 1,
   "nav_menu": {},
   "number_sections": true,
   "sideBar": true,
   "skip_h1_title": false,
   "title_cell": "Table of Contents",
   "title_sidebar": "Contents",
   "toc_cell": false,
   "toc_position": {},
   "toc_section_display": true,
   "toc_window_display": false
  },
  "varInspector": {
   "cols": {
    "lenName": 16,
    "lenType": 16,
    "lenVar": 40
   },
   "kernels_config": {
    "python": {
     "delete_cmd_postfix": "",
     "delete_cmd_prefix": "del ",
     "library": "var_list.py",
     "varRefreshCmd": "print(var_dic_list())"
    },
    "r": {
     "delete_cmd_postfix": ") ",
     "delete_cmd_prefix": "rm(",
     "library": "var_list.r",
     "varRefreshCmd": "cat(var_dic_list()) "
    }
   },
   "types_to_exclude": [
    "module",
    "function",
    "builtin_function_or_method",
    "instance",
    "_Feature"
   ],
   "window_display": false
  }
 },
 "nbformat": 4,
 "nbformat_minor": 4
}
